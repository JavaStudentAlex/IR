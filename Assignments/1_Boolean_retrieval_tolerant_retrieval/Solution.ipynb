{
 "cells": [
  {
   "cell_type": "markdown",
   "metadata": {},
   "source": [
    "## Exercise 1: Boolean retrieval, Tolerant retrieval"
   ]
  },
  {
   "cell_type": "markdown",
   "metadata": {},
   "source": [
    "### Task 1. Boolean retrieval - Inverted index\n",
    "Consider the following document collection:\n",
    "\n",
    "- Doc 1: Facebook’s new tool is called Graph Search.\n",
    "- Doc 2: A new social graph for LinkedIn users.\n",
    "- Doc 3: Find friends using search on Facebook.\n",
    "- Doc 4: Google’s Knowledge Graph lets you search for things, people, or places."
   ]
  },
  {
   "cell_type": "markdown",
   "metadata": {},
   "source": [
    "#### Task 1.a Draw the term-document incidence matrix for this document collection."
   ]
  },
  {
   "cell_type": "code",
   "execution_count": null,
   "metadata": {},
   "outputs": [],
   "source": [
    "%%capture\n",
    "!pip install amsmath\n",
    "!pip install blkarray"
   ]
  },
  {
   "cell_type": "markdown",
   "metadata": {},
   "source": [
    "\\begin{align*}\n",
    "\\begin{equation*}\n",
    "  \\mathbf{S}=\n",
    "  \\begin{blockarray}{*{5}{c} l}\n",
    "    \\begin{block}{*{5}{>{$\\footnotesize}c<{$}} l}\n",
    "      Rose & Teal & Plum & Sand & Peach & \\\\\n",
    "    \\end{block}\n",
    "    \\begin{block}{[*{5}{c}]>{$\\footnotesize}l<{$}}\n",
    "      0 & 9 & 8 & 0 & 7 \\bigstrut[t]& small \\\\\n",
    "      3 & 5 & 6 & 5 & 1 & medium \\\\\n",
    "      1 & 0 & 0 & 3 & 2 & large \\\\\n",
    "    \\end{block}\n",
    "  \\end{blockarray}\n",
    "\\end{equation*}\n",
    "\\end{align*}"
   ]
  },
  {
   "cell_type": "code",
   "execution_count": null,
   "metadata": {},
   "outputs": [],
   "source": []
  }
 ],
 "metadata": {
  "language_info": {
   "name": "python"
  },
  "orig_nbformat": 4
 },
 "nbformat": 4,
 "nbformat_minor": 2
}
